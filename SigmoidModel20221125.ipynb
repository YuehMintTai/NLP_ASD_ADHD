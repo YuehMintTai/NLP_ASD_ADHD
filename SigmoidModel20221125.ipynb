{
 "cells": [
  {
   "cell_type": "markdown",
   "id": "b2185951-5fb7-4196-bd1c-e4afae27ed29",
   "metadata": {},
   "source": [
    "## Try Bert Model for single Dx of ASD..."
   ]
  },
  {
   "cell_type": "code",
   "execution_count": 1,
   "id": "b29d4e09-2730-4441-bdbb-bd20cf6723b2",
   "metadata": {},
   "outputs": [
    {
     "data": {
      "text/plain": [
       "'2.8.2'"
      ]
     },
     "execution_count": 1,
     "metadata": {},
     "output_type": "execute_result"
    }
   ],
   "source": [
    "import tensorflow as tf, numpy as np, pandas as pd\n",
    "tf.__version__"
   ]
  },
  {
   "cell_type": "code",
   "execution_count": 2,
   "id": "2ca73baf-450c-41d7-914b-04e688ef3b00",
   "metadata": {},
   "outputs": [
    {
     "name": "stderr",
     "output_type": "stream",
     "text": [
      "C:\\Users\\sam\\AppData\\Local\\Temp/ipykernel_6912/2749842556.py:1: DtypeWarning: Columns (9) have mixed types. Specify dtype option on import or set low_memory=False.\n",
      "  df=pd.read_csv('NLP22355_ASD.csv')\n"
     ]
    },
    {
     "data": {
      "text/html": [
       "<div>\n",
       "<style scoped>\n",
       "    .dataframe tbody tr th:only-of-type {\n",
       "        vertical-align: middle;\n",
       "    }\n",
       "\n",
       "    .dataframe tbody tr th {\n",
       "        vertical-align: top;\n",
       "    }\n",
       "\n",
       "    .dataframe thead th {\n",
       "        text-align: right;\n",
       "    }\n",
       "</style>\n",
       "<table border=\"1\" class=\"dataframe\">\n",
       "  <thead>\n",
       "    <tr style=\"text-align: right;\">\n",
       "      <th></th>\n",
       "      <th>Unnamed: 0.2</th>\n",
       "      <th>Unnamed: 0.1</th>\n",
       "      <th>Unnamed: 0</th>\n",
       "      <th>SNO</th>\n",
       "      <th>病歷號</th>\n",
       "      <th>身份證號</th>\n",
       "      <th>出生年</th>\n",
       "      <th>出生月</th>\n",
       "      <th>出生日</th>\n",
       "      <th>到院年</th>\n",
       "      <th>...</th>\n",
       "      <th>age</th>\n",
       "      <th>軍人</th>\n",
       "      <th>思覺失調</th>\n",
       "      <th>憂鬱症</th>\n",
       "      <th>人格疾患</th>\n",
       "      <th>適應障礙</th>\n",
       "      <th>躁症</th>\n",
       "      <th>物質使用</th>\n",
       "      <th>ADHD</th>\n",
       "      <th>ASD</th>\n",
       "    </tr>\n",
       "  </thead>\n",
       "  <tbody>\n",
       "    <tr>\n",
       "      <th>22353</th>\n",
       "      <td>22353</td>\n",
       "      <td>24624</td>\n",
       "      <td>24624</td>\n",
       "      <td>26224.0</td>\n",
       "      <td>137214</td>\n",
       "      <td>R220493026</td>\n",
       "      <td>66</td>\n",
       "      <td>1</td>\n",
       "      <td>1</td>\n",
       "      <td>95</td>\n",
       "      <td>...</td>\n",
       "      <td>29.25</td>\n",
       "      <td>0</td>\n",
       "      <td>0</td>\n",
       "      <td>1</td>\n",
       "      <td>0</td>\n",
       "      <td>0</td>\n",
       "      <td>0</td>\n",
       "      <td>0</td>\n",
       "      <td>0</td>\n",
       "      <td>0</td>\n",
       "    </tr>\n",
       "    <tr>\n",
       "      <th>22354</th>\n",
       "      <td>22354</td>\n",
       "      <td>24625</td>\n",
       "      <td>24625</td>\n",
       "      <td>26225.0</td>\n",
       "      <td>120459</td>\n",
       "      <td>R123517601</td>\n",
       "      <td>72</td>\n",
       "      <td>11</td>\n",
       "      <td>15</td>\n",
       "      <td>94</td>\n",
       "      <td>...</td>\n",
       "      <td>21.75</td>\n",
       "      <td>0</td>\n",
       "      <td>1</td>\n",
       "      <td>0</td>\n",
       "      <td>0</td>\n",
       "      <td>0</td>\n",
       "      <td>0</td>\n",
       "      <td>0</td>\n",
       "      <td>0</td>\n",
       "      <td>0</td>\n",
       "    </tr>\n",
       "  </tbody>\n",
       "</table>\n",
       "<p>2 rows × 39 columns</p>\n",
       "</div>"
      ],
      "text/plain": [
       "       Unnamed: 0.2  Unnamed: 0.1  Unnamed: 0      SNO     病歷號        身份證號  \\\n",
       "22353         22353         24624       24624  26224.0  137214  R220493026   \n",
       "22354         22354         24625       24625  26225.0  120459  R123517601   \n",
       "\n",
       "      出生年 出生月 出生日 到院年  ...    age 軍人 思覺失調 憂鬱症 人格疾患 適應障礙 躁症 物質使用 ADHD ASD  \n",
       "22353  66   1   1  95  ...  29.25  0    0   1    0    0  0    0    0   0  \n",
       "22354  72  11  15  94  ...  21.75  0    1   0    0    0  0    0    0   0  \n",
       "\n",
       "[2 rows x 39 columns]"
      ]
     },
     "execution_count": 2,
     "metadata": {},
     "output_type": "execute_result"
    }
   ],
   "source": [
    "df=pd.read_csv('NLP22355_ASD.csv')\n",
    "df.tail(2)"
   ]
  },
  {
   "cell_type": "code",
   "execution_count": 3,
   "id": "922e324d-1745-44bd-8908-26ea1c2474be",
   "metadata": {},
   "outputs": [
    {
     "data": {
      "text/plain": [
       "<tf.Tensor: shape=(22355, 2), dtype=int64, numpy=\n",
       "array([[0, 0],\n",
       "       [0, 0],\n",
       "       [0, 0],\n",
       "       ...,\n",
       "       [0, 0],\n",
       "       [0, 0],\n",
       "       [0, 0]], dtype=int64)>"
      ]
     },
     "execution_count": 3,
     "metadata": {},
     "output_type": "execute_result"
    }
   ],
   "source": [
    "y1=df['ADHD'].to_numpy().reshape(-1,1)\n",
    "y2=df['ASD'].to_numpy().reshape(-1,1)\n",
    "yt=tf.concat([y1,y2],axis=1)\n",
    "yt"
   ]
  },
  {
   "cell_type": "code",
   "execution_count": 4,
   "id": "5c3d64cf-4696-45ea-99ac-3af08e6bea73",
   "metadata": {
    "tags": []
   },
   "outputs": [
    {
     "data": {
      "text/plain": [
       "'個案病前人格內向，少友，五專三年級肄業。在校成績中上，否認有在學期間有蹺課、打架遭記過之記錄，也否認有任何前科、頭部外傷或藥物濫用等記錄。個案於五專三年級時（MK91），出現喃喃自語（疑似幻聽干擾）、個案會有聽到腦中思考的想法會變成聲音的干擾，個案感到很煩躁、不安，無法專心功課及人際互動，因此功課及人際功能逐漸變差，因此家人帶個案去廟宇求助及醫院精神科就診，當時診斷為精神分裂症，並服藥門診追蹤，但上述症狀，仍未改善，且個案容易有四肢僵硬、煩躁、手抖、不斷來回走動等不舒服症狀，個案時有因受干擾而心煩，會想摔東西，入睡前會聽到耳邊有聲音干擾，平時也認為報紙及電視會報導個案之故事的關係妄想。因此於MK91-11改至本院門診就診。之後副作用症狀逐漸減輕，也能於本院規則門診追蹤，但精神症狀仍未完全改善，此外平日個案之自我照顧功能在家人照顧下尚可。94-3月個案不斷出現情緒焦慮、煩躁、不斷喃喃自語、在屋內來一直重複回走動、出現日夜生活顛倒、夜眠差、對家人語言攻擊、以致由家屬帶至本院住院，94-4出院後尚可規則門診追蹤服藥。但根據家屬表示個案最近一週個案於家中出現踱步，情緒不穩定，自言自語，並有關係妄想等情形，故由家人帶至本院就診。'"
      ]
     },
     "execution_count": 4,
     "metadata": {},
     "output_type": "execute_result"
    }
   ],
   "source": [
    "x_list=df['現在病史'].values.tolist()\n",
    "x_list[-1]"
   ]
  },
  {
   "cell_type": "markdown",
   "id": "d75bd513-a865-4ea8-9f18-19a258933e32",
   "metadata": {},
   "source": [
    "## BERT transformer"
   ]
  },
  {
   "cell_type": "code",
   "execution_count": 5,
   "id": "c6ee94a2-0051-46ad-a67c-a5f6ef2ab7dd",
   "metadata": {},
   "outputs": [],
   "source": [
    "import bert, tensorflow_hub as hub\n",
    "BertTokenizer=bert.bert_tokenization.FullTokenizer\n",
    "bert_layer=hub.KerasLayer('bert_zh_L-12_H-768_A-12_2',trainable=False)\n",
    "vocabulary_file=bert_layer.resolved_object.vocab_file.asset_path.numpy()\n",
    "to_lower_case=bert_layer.resolved_object.do_lower_case.numpy()\n",
    "tokenizer=BertTokenizer(vocabulary_file,to_lower_case)\n",
    "def tokenize_text(text_input):\n",
    "    myText=''\n",
    "    try:\n",
    "        myText=tokenizer.convert_tokens_to_ids(tokenizer.tokenize(text_input))\n",
    "    except:\n",
    "        myText='NaN'\n",
    "    return myText"
   ]
  },
  {
   "cell_type": "code",
   "execution_count": 6,
   "id": "27ff1cd2-ea12-468d-bb19-2941af7c4105",
   "metadata": {
    "tags": []
   },
   "outputs": [
    {
     "data": {
      "text/plain": [
       "list"
      ]
     },
     "execution_count": 6,
     "metadata": {},
     "output_type": "execute_result"
    }
   ],
   "source": [
    "x_tokenized=[]\n",
    "for i in x_list:\n",
    "    x_tokenized.append(tokenize_text(i))\n",
    "type(x_tokenized) ##list"
   ]
  },
  {
   "cell_type": "code",
   "execution_count": 7,
   "id": "0cc897e9-19a5-4e94-8130-85163b66f8a6",
   "metadata": {},
   "outputs": [
    {
     "data": {
      "text/plain": [
       "list"
      ]
     },
     "execution_count": 7,
     "metadata": {},
     "output_type": "execute_result"
    }
   ],
   "source": [
    "len(x_tokenized) ##22355\n",
    "type(x_tokenized) ##list\n",
    "##x_tokenized[-1]"
   ]
  },
  {
   "cell_type": "raw",
   "id": "d444eded-56de-4e21-ab9b-f2104e1c8bd4",
   "metadata": {},
   "source": [
    "Padding list by hand."
   ]
  },
  {
   "cell_type": "code",
   "execution_count": 9,
   "id": "369ab67f-3649-4cf0-bc36-eca823bc5936",
   "metadata": {},
   "outputs": [
    {
     "data": {
      "text/plain": [
       "508"
      ]
     },
     "execution_count": 9,
     "metadata": {},
     "output_type": "execute_result"
    }
   ],
   "source": [
    "max_length=768\n",
    "x_trim=[]\n",
    "for j in x_tokenized:\n",
    "    x_trim.append(j[:max_length])\n",
    "len(x_trim)##22355\n",
    "len(x_trim[-1]) ##508"
   ]
  },
  {
   "cell_type": "code",
   "execution_count": 10,
   "id": "010461c2-4424-4721-bde5-255a300a4ae3",
   "metadata": {},
   "outputs": [
    {
     "data": {
      "text/plain": [
       "768"
      ]
     },
     "execution_count": 10,
     "metadata": {},
     "output_type": "execute_result"
    }
   ],
   "source": [
    "x_padded=[]\n",
    "for k in x_trim:\n",
    "    x_padded.append(k+[0]*(max_length-len(k)))\n",
    "    \n",
    "len(x_padded) ##22355\\\n",
    "len(x_padded[-1]) #768"
   ]
  },
  {
   "cell_type": "code",
   "execution_count": 11,
   "id": "fd14400b-70af-4b57-b38a-1950fecade23",
   "metadata": {},
   "outputs": [],
   "source": [
    "x_tensor=tf.convert_to_tensor(x_padded)\n",
    "x_tensor=tf.cast(x_tensor,tf.int32)"
   ]
  },
  {
   "cell_type": "markdown",
   "id": "2318ef28-3208-45f2-9efc-ce97686f9ef5",
   "metadata": {},
   "source": [
    "## REAL MODEL (Multiple layers)"
   ]
  },
  {
   "cell_type": "code",
   "execution_count": 16,
   "id": "fb80ea74-b523-4b67-9411-25a8031ecd4d",
   "metadata": {},
   "outputs": [],
   "source": [
    "class TEXTMODEL1(tf.keras.Model):\n",
    "    def __init__(self):\n",
    "        super(TEXTMODEL1, self).__init__()\n",
    "        self.embedding=tf.keras.layers.Embedding(21128,100,input_length=768)\n",
    "        self.myFlatten=tf.keras.layers.Flatten()\n",
    "        self.myOutput=tf.keras.layers.Dense(2,activation='sigmoid')\n",
    "        \n",
    "    def call(self,inputs):       \n",
    "        outputs=inputs\n",
    "        outputs=self.embedding(outputs)\n",
    "        outputs=self.myFlatten(outputs)\n",
    "        outputs=self.myOutput(outputs)\n",
    "        return outputs"
   ]
  },
  {
   "cell_type": "markdown",
   "id": "edef6f56-9966-4e35-be63-7ee3213b80a5",
   "metadata": {},
   "source": [
    "## BERT + CNN model"
   ]
  },
  {
   "cell_type": "code",
   "execution_count": 23,
   "id": "731917a3-0a69-45b7-8750-b6d3793c3341",
   "metadata": {},
   "outputs": [],
   "source": [
    "cnn_filters=100\n",
    "class TEXTMODEL(tf.keras.Model):\n",
    "    def __init__(self):\n",
    "        super(TEXTMODEL,self).__init__()\n",
    "        self.myEmbedding=tf.keras.layers.Embedding(21128,768)\n",
    "        self.myFlatten=tf.keras.layers.Flatten()\n",
    "        self.cnn1=tf.keras.layers.Conv1D(filters=cnn_filters,kernel_size=2,padding='valid',activation='relu')\n",
    "        self.cnn2=tf.keras.layers.Conv1D(filters=cnn_filters,kernel_size=3,padding='valid',activation='relu')\n",
    "        self.cnn3=tf.keras.layers.Conv1D(filters=cnn_filters,kernel_size=4,padding='valid',activation='relu')\n",
    "        self.pool=tf.keras.layers.GlobalMaxPool1D()\n",
    "        self.dense=tf.keras.layers.Dense(units=100, activation='relu')\n",
    "        self.dropout=tf.keras.layers.Dropout(rate=0.2)\n",
    "        self.mySigmoid=tf.keras.layers.Dense(2,activation='sigmoid')\n",
    "    \n",
    "    def call(self,inputs):\n",
    "        outputs=self.myEmbedding(inputs)\n",
    "        ##outputs=self.myFlatten(outputs)\n",
    "        l_1=self.cnn1(outputs)\n",
    "        l_1=self.pool(l_1)\n",
    "        l_2=self.cnn2(outputs)\n",
    "        l_2=self.pool(l_2)\n",
    "        l_3=self.cnn3(outputs)\n",
    "        l_3=self.pool(l_3)\n",
    "        outputs=tf.concat([l_1,l_2,l_3],axis=-1)\n",
    "        outputs=self.mySigmoid(outputs)\n",
    "        return outputs"
   ]
  },
  {
   "cell_type": "code",
   "execution_count": 24,
   "id": "46784be5-cf58-42cf-a464-2020bcac949f",
   "metadata": {
    "tags": []
   },
   "outputs": [
    {
     "name": "stdout",
     "output_type": "stream",
     "text": [
      "Model: \"textmodel\"\n",
      "_________________________________________________________________\n",
      " Layer (type)                Output Shape              Param #   \n",
      "=================================================================\n",
      " embedding_2 (Embedding)     multiple                  0 (unused)\n",
      "                                                                 \n",
      " flatten_2 (Flatten)         multiple                  0 (unused)\n",
      "                                                                 \n",
      " conv1d (Conv1D)             multiple                  0 (unused)\n",
      "                                                                 \n",
      " conv1d_1 (Conv1D)           multiple                  0 (unused)\n",
      "                                                                 \n",
      " conv1d_2 (Conv1D)           multiple                  0 (unused)\n",
      "                                                                 \n",
      " global_max_pooling1d (Globa  multiple                 0 (unused)\n",
      " lMaxPooling1D)                                                  \n",
      "                                                                 \n",
      " dense_2 (Dense)             multiple                  0 (unused)\n",
      "                                                                 \n",
      " dropout (Dropout)           multiple                  0 (unused)\n",
      "                                                                 \n",
      " dense_3 (Dense)             multiple                  0 (unused)\n",
      "                                                                 \n",
      "=================================================================\n",
      "Total params: 0\n",
      "Trainable params: 0\n",
      "Non-trainable params: 0\n",
      "_________________________________________________________________\n"
     ]
    }
   ],
   "source": [
    "myModel=TEXTMODEL()\n",
    "myModel.build(input_shape=())\n",
    "myModel.summary()"
   ]
  },
  {
   "cell_type": "markdown",
   "id": "d7b2d55e-3a41-469c-8dd8-4e0402980fc8",
   "metadata": {},
   "source": [
    "## TESTing MODEL (Single Layer)"
   ]
  },
  {
   "cell_type": "code",
   "execution_count": 28,
   "id": "04b6a387-c9a8-4f21-8d9a-f89ccc2075fb",
   "metadata": {},
   "outputs": [
    {
     "ename": "TypeError",
     "evalue": "__init__() got an unexpected keyword argument 'shape'",
     "output_type": "error",
     "traceback": [
      "\u001b[1;31m---------------------------------------------------------------------------\u001b[0m",
      "\u001b[1;31mTypeError\u001b[0m                                 Traceback (most recent call last)",
      "\u001b[1;32m~\\AppData\\Local\\Temp/ipykernel_6912/3475330186.py\u001b[0m in \u001b[0;36m<module>\u001b[1;34m\u001b[0m\n\u001b[0;32m      1\u001b[0m \u001b[0mmyModel_\u001b[0m\u001b[1;33m=\u001b[0m\u001b[0mTEXTMODEL\u001b[0m\u001b[1;33m(\u001b[0m\u001b[1;33m)\u001b[0m\u001b[1;33m\u001b[0m\u001b[1;33m\u001b[0m\u001b[0m\n\u001b[1;32m----> 2\u001b[1;33m \u001b[0minputs\u001b[0m\u001b[1;33m=\u001b[0m\u001b[0mtf\u001b[0m\u001b[1;33m.\u001b[0m\u001b[0mTensor\u001b[0m\u001b[1;33m(\u001b[0m\u001b[0mshape\u001b[0m\u001b[1;33m=\u001b[0m\u001b[1;33m(\u001b[0m\u001b[1;36m22355\u001b[0m\u001b[1;33m,\u001b[0m \u001b[1;36m768\u001b[0m\u001b[1;33m)\u001b[0m\u001b[1;33m,\u001b[0m \u001b[0mdtype\u001b[0m\u001b[1;33m=\u001b[0m\u001b[0mtf\u001b[0m\u001b[1;33m.\u001b[0m\u001b[0mint32\u001b[0m\u001b[1;33m)\u001b[0m\u001b[1;33m\u001b[0m\u001b[1;33m\u001b[0m\u001b[0m\n\u001b[0m\u001b[0;32m      3\u001b[0m \u001b[0moutputs\u001b[0m\u001b[1;33m=\u001b[0m\u001b[0mmyModel_\u001b[0m\u001b[1;33m(\u001b[0m\u001b[0minputs\u001b[0m\u001b[1;33m)\u001b[0m\u001b[1;33m\u001b[0m\u001b[1;33m\u001b[0m\u001b[0m\n\u001b[0;32m      4\u001b[0m \u001b[0mMYMODEL\u001b[0m\u001b[1;33m=\u001b[0m\u001b[0mtf\u001b[0m\u001b[1;33m.\u001b[0m\u001b[0mkeras\u001b[0m\u001b[1;33m.\u001b[0m\u001b[0mModel\u001b[0m\u001b[1;33m(\u001b[0m\u001b[0minputs\u001b[0m\u001b[1;33m=\u001b[0m\u001b[0minputs\u001b[0m\u001b[1;33m,\u001b[0m \u001b[0moutputs\u001b[0m\u001b[1;33m=\u001b[0m\u001b[0moutputs\u001b[0m\u001b[1;33m)\u001b[0m\u001b[1;33m\u001b[0m\u001b[1;33m\u001b[0m\u001b[0m\n",
      "\u001b[1;31mTypeError\u001b[0m: __init__() got an unexpected keyword argument 'shape'"
     ]
    }
   ],
   "source": [
    "myModel_=TEXTMODEL()\n",
    "inputs=tf.Tensor(shape=(22355, 768), dtype=tf.int32)\n",
    "outputs=myModel_(inputs)\n",
    "MYMODEL=tf.keras.Model(inputs=inputs, outputs=outputs)\n"
   ]
  },
  {
   "cell_type": "code",
   "execution_count": 25,
   "id": "a2cc7067-4470-44e0-a759-aaa474105b30",
   "metadata": {
    "tags": []
   },
   "outputs": [
    {
     "ename": "ResourceExhaustedError",
     "evalue": "Exception encountered when calling layer \"embedding_2\" (type Embedding).\n\nOOM when allocating tensor with shape[22355,768,768] and type float on /job:localhost/replica:0/task:0/device:CPU:0 by allocator cpu [Op:ResourceGather]\n\nCall arguments received:\n  • inputs=tf.Tensor(shape=(22355, 768), dtype=int32)",
     "output_type": "error",
     "traceback": [
      "\u001b[1;31m---------------------------------------------------------------------------\u001b[0m",
      "\u001b[1;31mResourceExhaustedError\u001b[0m                    Traceback (most recent call last)",
      "\u001b[1;32m~\\AppData\\Local\\Temp/ipykernel_6912/2612470793.py\u001b[0m in \u001b[0;36m<module>\u001b[1;34m\u001b[0m\n\u001b[1;32m----> 1\u001b[1;33m \u001b[0mResult_pass\u001b[0m\u001b[1;33m=\u001b[0m\u001b[0mmyModel\u001b[0m\u001b[1;33m(\u001b[0m\u001b[0mx_tensor\u001b[0m\u001b[1;33m)\u001b[0m\u001b[1;33m\u001b[0m\u001b[1;33m\u001b[0m\u001b[0m\n\u001b[0m\u001b[0;32m      2\u001b[0m \u001b[0mResult_pass\u001b[0m\u001b[1;33m\u001b[0m\u001b[1;33m\u001b[0m\u001b[0m\n",
      "\u001b[1;32m~\\AppData\\Roaming\\jupyterlab-desktop\\jlab_server\\lib\\site-packages\\keras\\utils\\traceback_utils.py\u001b[0m in \u001b[0;36merror_handler\u001b[1;34m(*args, **kwargs)\u001b[0m\n\u001b[0;32m     65\u001b[0m     \u001b[1;32mexcept\u001b[0m \u001b[0mException\u001b[0m \u001b[1;32mas\u001b[0m \u001b[0me\u001b[0m\u001b[1;33m:\u001b[0m  \u001b[1;31m# pylint: disable=broad-except\u001b[0m\u001b[1;33m\u001b[0m\u001b[1;33m\u001b[0m\u001b[0m\n\u001b[0;32m     66\u001b[0m       \u001b[0mfiltered_tb\u001b[0m \u001b[1;33m=\u001b[0m \u001b[0m_process_traceback_frames\u001b[0m\u001b[1;33m(\u001b[0m\u001b[0me\u001b[0m\u001b[1;33m.\u001b[0m\u001b[0m__traceback__\u001b[0m\u001b[1;33m)\u001b[0m\u001b[1;33m\u001b[0m\u001b[1;33m\u001b[0m\u001b[0m\n\u001b[1;32m---> 67\u001b[1;33m       \u001b[1;32mraise\u001b[0m \u001b[0me\u001b[0m\u001b[1;33m.\u001b[0m\u001b[0mwith_traceback\u001b[0m\u001b[1;33m(\u001b[0m\u001b[0mfiltered_tb\u001b[0m\u001b[1;33m)\u001b[0m \u001b[1;32mfrom\u001b[0m \u001b[1;32mNone\u001b[0m\u001b[1;33m\u001b[0m\u001b[1;33m\u001b[0m\u001b[0m\n\u001b[0m\u001b[0;32m     68\u001b[0m     \u001b[1;32mfinally\u001b[0m\u001b[1;33m:\u001b[0m\u001b[1;33m\u001b[0m\u001b[1;33m\u001b[0m\u001b[0m\n\u001b[0;32m     69\u001b[0m       \u001b[1;32mdel\u001b[0m \u001b[0mfiltered_tb\u001b[0m\u001b[1;33m\u001b[0m\u001b[1;33m\u001b[0m\u001b[0m\n",
      "\u001b[1;32m~\\AppData\\Local\\Temp/ipykernel_6912/1365277697.py\u001b[0m in \u001b[0;36mcall\u001b[1;34m(self, inputs)\u001b[0m\n\u001b[0;32m     14\u001b[0m \u001b[1;33m\u001b[0m\u001b[0m\n\u001b[0;32m     15\u001b[0m     \u001b[1;32mdef\u001b[0m \u001b[0mcall\u001b[0m\u001b[1;33m(\u001b[0m\u001b[0mself\u001b[0m\u001b[1;33m,\u001b[0m\u001b[0minputs\u001b[0m\u001b[1;33m)\u001b[0m\u001b[1;33m:\u001b[0m\u001b[1;33m\u001b[0m\u001b[1;33m\u001b[0m\u001b[0m\n\u001b[1;32m---> 16\u001b[1;33m         \u001b[0moutputs\u001b[0m\u001b[1;33m=\u001b[0m\u001b[0mself\u001b[0m\u001b[1;33m.\u001b[0m\u001b[0mmyEmbedding\u001b[0m\u001b[1;33m(\u001b[0m\u001b[0minputs\u001b[0m\u001b[1;33m)\u001b[0m\u001b[1;33m\u001b[0m\u001b[1;33m\u001b[0m\u001b[0m\n\u001b[0m\u001b[0;32m     17\u001b[0m         \u001b[1;31m##outputs=self.myFlatten(outputs)\u001b[0m\u001b[1;33m\u001b[0m\u001b[1;33m\u001b[0m\u001b[1;33m\u001b[0m\u001b[0m\n\u001b[0;32m     18\u001b[0m         \u001b[0ml_1\u001b[0m\u001b[1;33m=\u001b[0m\u001b[0mself\u001b[0m\u001b[1;33m.\u001b[0m\u001b[0mcnn1\u001b[0m\u001b[1;33m(\u001b[0m\u001b[0moutputs\u001b[0m\u001b[1;33m)\u001b[0m\u001b[1;33m\u001b[0m\u001b[1;33m\u001b[0m\u001b[0m\n",
      "\u001b[1;31mResourceExhaustedError\u001b[0m: Exception encountered when calling layer \"embedding_2\" (type Embedding).\n\nOOM when allocating tensor with shape[22355,768,768] and type float on /job:localhost/replica:0/task:0/device:CPU:0 by allocator cpu [Op:ResourceGather]\n\nCall arguments received:\n  • inputs=tf.Tensor(shape=(22355, 768), dtype=int32)"
     ]
    }
   ],
   "source": [
    "Result_pass=myModel(x_tensor)\n",
    "Result_pass"
   ]
  },
  {
   "cell_type": "markdown",
   "id": "c14f26d8-9694-4c15-9bd1-9726259a013b",
   "metadata": {},
   "source": [
    "## Training Model"
   ]
  },
  {
   "cell_type": "code",
   "execution_count": 26,
   "id": "5feb414f-884c-4e0b-967e-192cc7887c30",
   "metadata": {},
   "outputs": [
    {
     "name": "stdout",
     "output_type": "stream",
     "text": [
      "Epoch 1/2\n",
      "978/978 [==============================] - 564s 576ms/step - loss: 7.0141 - categorical_accuracy: 0.5081 - val_loss: 7.1380 - val_categorical_accuracy: 0.5611\n",
      "Epoch 2/2\n",
      "978/978 [==============================] - 576s 589ms/step - loss: 42.5151 - categorical_accuracy: 0.5034 - val_loss: 21.7902 - val_categorical_accuracy: 0.6882\n"
     ]
    }
   ],
   "source": [
    "myModel.compile(loss='categorical_crossentropy',\n",
    "                optimizer='adam',\n",
    "                metrics=['categorical_accuracy'])\n",
    "history=myModel.fit(x=x_tensor,y=yt,\n",
    "                    validation_split=0.3, \n",
    "                    epochs=2,batch_size=16)"
   ]
  },
  {
   "cell_type": "code",
   "execution_count": 34,
   "id": "424d9d99-ce48-48ec-bce7-cd1d8ae89baa",
   "metadata": {},
   "outputs": [
    {
     "data": {
      "image/png": "[encoded data removed]",
      "text/plain": [
       "<Figure size 432x288 with 1 Axes>"
      ]
     },
     "metadata": {
      "needs_background": "light"
     },
     "output_type": "display_data"
    },
    {
     "data": {
      "image/png": "[encoded data removed]",
      "text/plain": [
       "<Figure size 432x288 with 1 Axes>"
      ]
     },
     "metadata": {
      "needs_background": "light"
     },
     "output_type": "display_data"
    }
   ],
   "source": [
    "from matplotlib import pyplot as plt\n",
    "plt.plot(history.history['loss'],'r')\n",
    "plt.show()\n",
    "plt.plot(history.history['categorical_accuracy'],'b')\n",
    "plt.show()"
   ]
  },
  {
   "cell_type": "code",
   "execution_count": null,
   "id": "3b698065-ca8c-4361-9e93-c18b27a8c02c",
   "metadata": {},
   "outputs": [],
   "source": []
  },
  {
   "cell_type": "markdown",
   "id": "4b6c00aa-0e4c-47fc-a609-3d74ddd07b83",
   "metadata": {
    "tags": []
   },
   "source": [
    "### 使用dataset是不推薦的....."
   ]
  },
  {
   "cell_type": "code",
   "execution_count": null,
   "id": "6172acba-ef08-4d16-b2a7-4945aa91a81f",
   "metadata": {
    "tags": []
   },
   "outputs": [],
   "source": [
    "x_tuple=[]\n",
    "for i in range(len(x_tokenized)):\n",
    "    x_tuple.append(tuple(map(int,list(x_tokenized[i]))))\n",
    "x_tuple[-1]                   "
   ]
  },
  {
   "cell_type": "code",
   "execution_count": null,
   "id": "645b3c9c-e5c5-4226-819b-03f377faa4e5",
   "metadata": {
    "tags": []
   },
   "outputs": [],
   "source": [
    "x_dataset=tf.data.Dataset.from_generator(lambda: x_tuple,\n",
    "                                         output_types=(tf.int32))\n",
    "for a in x_dataset.take(1):\n",
    "    print(a)"
   ]
  },
  {
   "cell_type": "code",
   "execution_count": null,
   "id": "9a2efb27-4fd4-4c42-bcbf-cf2d4d5ca01c",
   "metadata": {
    "tags": []
   },
   "outputs": [],
   "source": [
    "x_padded=x_dataset.padded_batch(1,padded_shapes=((768)))\n",
    "for b in x_padded.take(1):\n",
    "    print(b)"
   ]
  },
  {
   "cell_type": "code",
   "execution_count": null,
   "id": "80909ca6-7e1d-4a54-a3c7-761100772dda",
   "metadata": {},
   "outputs": [],
   "source": [
    "type(x_padded) ##tensorflow.python.data.ops.dataset_ops.PaddedBatchDataset\n",
    "x_padded.numpy()"
   ]
  },
  {
   "cell_type": "code",
   "execution_count": null,
   "id": "d07e2295-ea62-4ecb-908f-0235a9f0ffde",
   "metadata": {},
   "outputs": [],
   "source": []
  }
 ],
 "metadata": {
  "kernelspec": {
   "display_name": "Python 3 (ipykernel)",
   "language": "python",
   "name": "python3"
  },
  "language_info": {
   "codemirror_mode": {
    "name": "ipython",
    "version": 3
   },
   "file_extension": ".py",
   "mimetype": "text/x-python",
   "name": "python",
   "nbconvert_exporter": "python",
   "pygments_lexer": "ipython3",
   "version": "3.8.13"
  }
 },
 "nbformat": 4,
 "nbformat_minor": 5
}
